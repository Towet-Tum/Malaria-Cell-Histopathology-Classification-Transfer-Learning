{
 "cells": [
  {
   "cell_type": "code",
   "execution_count": 1,
   "metadata": {},
   "outputs": [
    {
     "data": {
      "text/plain": [
       "'/home/towet/Desktop/OpenProjects/Malaria-Cell-Histopathology-Classification-Transfer-Learning/research'"
      ]
     },
     "execution_count": 1,
     "metadata": {},
     "output_type": "execute_result"
    }
   ],
   "source": [
    "import os \n",
    "%pwd"
   ]
  },
  {
   "cell_type": "code",
   "execution_count": 2,
   "metadata": {},
   "outputs": [],
   "source": [
    "os.chdir('../')"
   ]
  },
  {
   "cell_type": "code",
   "execution_count": 3,
   "metadata": {},
   "outputs": [
    {
     "data": {
      "text/plain": [
       "'/home/towet/Desktop/OpenProjects/Malaria-Cell-Histopathology-Classification-Transfer-Learning'"
      ]
     },
     "execution_count": 3,
     "metadata": {},
     "output_type": "execute_result"
    }
   ],
   "source": [
    "%pwd"
   ]
  },
  {
   "cell_type": "code",
   "execution_count": 4,
   "metadata": {},
   "outputs": [],
   "source": [
    "from dataclasses import dataclass \n",
    "from pathlib import Path\n",
    "\n",
    "@dataclass(frozen=True)\n",
    "class TrainingConfig:\n",
    "    root_dir: Path \n",
    "    model_path: Path \n",
    "    dataset: Path \n",
    "    epochs: int \n",
    "    loss: str \n",
    "    optimizer: str \n",
    "    base_model: str\n",
    "    batch_size: int \n",
    "    metrics: list \n",
    "    img_size: tuple\n",
    "   \n",
    "    "
   ]
  },
  {
   "cell_type": "code",
   "execution_count": 5,
   "metadata": {},
   "outputs": [
    {
     "name": "stderr",
     "output_type": "stream",
     "text": [
      "2024-03-05 13:49:15.541593: I external/local_tsl/tsl/cuda/cudart_stub.cc:31] Could not find cuda drivers on your machine, GPU will not be used.\n",
      "2024-03-05 13:49:15.608705: E external/local_xla/xla/stream_executor/cuda/cuda_dnn.cc:9261] Unable to register cuDNN factory: Attempting to register factory for plugin cuDNN when one has already been registered\n",
      "2024-03-05 13:49:15.608774: E external/local_xla/xla/stream_executor/cuda/cuda_fft.cc:607] Unable to register cuFFT factory: Attempting to register factory for plugin cuFFT when one has already been registered\n",
      "2024-03-05 13:49:15.610531: E external/local_xla/xla/stream_executor/cuda/cuda_blas.cc:1515] Unable to register cuBLAS factory: Attempting to register factory for plugin cuBLAS when one has already been registered\n",
      "2024-03-05 13:49:15.619679: I external/local_tsl/tsl/cuda/cudart_stub.cc:31] Could not find cuda drivers on your machine, GPU will not be used.\n",
      "2024-03-05 13:49:16.851366: W tensorflow/compiler/tf2tensorrt/utils/py_utils.cc:38] TF-TRT Warning: Could not find TensorRT\n"
     ]
    }
   ],
   "source": [
    "from MalariaCellHistopathologyClassification.constants import *\n",
    "from MalariaCellHistopathologyClassification.utils.common import read_yaml, create_directories"
   ]
  },
  {
   "cell_type": "code",
   "execution_count": 6,
   "metadata": {},
   "outputs": [],
   "source": [
    "class ConfigurationManager:\n",
    "    def __init__(self, \n",
    "                 config_file_path = CONFIG_FILE_PATH,\n",
    "                 param_file_path = PARAMS_FILE_PATH):\n",
    "        self.config = read_yaml(config_file_path)\n",
    "        self.param = read_yaml(param_file_path)\n",
    "        \n",
    "        create_directories([self.config.artifacts_root])\n",
    "        \n",
    "    def get_training_config(self) -> TrainingConfig:\n",
    "        config = self.config.training \n",
    "        param = self.param\n",
    "        create_directories([config.root_dir])\n",
    "        dataset = \"artifacts/data_ingestion/dataset/\"\n",
    "        training_config = TrainingConfig(\n",
    "            root_dir=config.root_dir,\n",
    "            model_path=config.model_path,\n",
    "            epochs=param.EPOCH,\n",
    "            base_model=param.BASE_MODEL,\n",
    "            img_size=param.IMG_SIZE,\n",
    "            batch_size=param.BATCH_SIZE,\n",
    "            optimizer=param.OPTIMIZER,\n",
    "            loss=param.LOSS,\n",
    "            metrics=param.METRICS,\n",
    "            dataset=str(dataset)\n",
    "        )\n",
    "        return training_config"
   ]
  },
  {
   "cell_type": "code",
   "execution_count": 7,
   "metadata": {},
   "outputs": [],
   "source": [
    "import tensorflow as tf \n",
    "import numpy as np \n",
    "from MalariaCellHistopathologyClassification.utils.common import load__process_dataset, save_plot"
   ]
  },
  {
   "cell_type": "code",
   "execution_count": 12,
   "metadata": {},
   "outputs": [],
   "source": [
    "class Training:\n",
    "    def __init__(self, config: TrainingConfig):\n",
    "        self.config = config \n",
    "        \n",
    "    def train(self):\n",
    "        train_ds, val_ds, _, _ = load__process_dataset(self.config.dataset,\n",
    "                                                                 self.config.batch_size, \n",
    "                                                                 self.config.img_size)\n",
    "        preprocess_input = tf.keras.applications.vgg19.preprocess_input\n",
    "        IMG_SHAPE = (224,224,3)\n",
    "        base_model = tf.keras.applications.VGG19(input_shape=IMG_SHAPE,\n",
    "                                               include_top=False,\n",
    "                                               weights='imagenet')\n",
    "        image_batch, label_batch = next(iter(train_ds))\n",
    "        feature_batch = base_model(image_batch)\n",
    "        \n",
    "        for layer in base_model.layers:\n",
    "            layer.tranable=False\n",
    "            \n",
    "        global_average_layer = tf.keras.layers.GlobalAveragePooling2D()\n",
    "        feature_batch_average = global_average_layer(feature_batch)\n",
    "        prediction_layer = tf.keras.layers.Dense(1)\n",
    "        prediction_batch = prediction_layer(feature_batch_average)\n",
    "        \n",
    "        inputs = tf.keras.Input(shape=(224, 224, 3))\n",
    "        x = preprocess_input(inputs)\n",
    "        x = base_model(x, training=False)\n",
    "        x = global_average_layer(x)\n",
    "        x = tf.keras.layers.Dropout(0.2)(x)\n",
    "        outputs = prediction_layer(x)\n",
    "        model = tf.keras.Model(inputs, outputs)\n",
    "        \n",
    "        \n",
    "        model.compile(optimizer=tf.keras.optimizers.Adam(learning_rate=0.0001),\n",
    "              loss=tf.keras.losses.BinaryCrossentropy(from_logits=True),\n",
    "              metrics=[tf.keras.metrics.BinaryAccuracy(threshold=0, name='accuracy')])\n",
    "        \n",
    "        history = model.fit(train_ds,\n",
    "                    epochs=self.config.epochs,\n",
    "                    steps_per_epoch=len(train_ds)/32,\n",
    "                    validation_data=val_ds,\n",
    "                    validation_steps=len(val_ds)/32,\n",
    "                   verbose=1\n",
    "\n",
    "                    )\n",
    "        model.save(self.config.model_path)   \n",
    "        save_plot(history, \"src/MalariaCellHistopathologyClassification/models/plots.py/history.png\") \n",
    "        "
   ]
  },
  {
   "cell_type": "code",
   "execution_count": 13,
   "metadata": {},
   "outputs": [
    {
     "name": "stdout",
     "output_type": "stream",
     "text": [
      "[2024-03-05 13:56:16,718: INFO: common: yaml file: config/config.yaml loaded successfully]\n",
      "[2024-03-05 13:56:16,915: INFO: common: yaml file: params.yaml loaded successfully]\n",
      "[2024-03-05 13:56:16,940: INFO: common: created directory at: artifacts]\n",
      "[2024-03-05 13:56:16,948: INFO: common: created directory at: artifacts/training]\n",
      "Found 27558 files belonging to 2 classes.\n",
      "Using 22047 files for training.\n",
      "Found 27558 files belonging to 2 classes.\n",
      "Using 5511 files for validation.\n"
     ]
    }
   ],
   "source": [
    "try:\n",
    "    config = ConfigurationManager()\n",
    "    train_config = config.get_training_config()\n",
    "    training = Training(config=train_config)\n",
    "    training.train()\n",
    "except Exception as e:\n",
    "    raise e"
   ]
  }
 ],
 "metadata": {
  "kernelspec": {
   "display_name": "mal-cell",
   "language": "python",
   "name": "python3"
  },
  "language_info": {
   "codemirror_mode": {
    "name": "ipython",
    "version": 3
   },
   "file_extension": ".py",
   "mimetype": "text/x-python",
   "name": "python",
   "nbconvert_exporter": "python",
   "pygments_lexer": "ipython3",
   "version": "3.10.12"
  }
 },
 "nbformat": 4,
 "nbformat_minor": 2
}
